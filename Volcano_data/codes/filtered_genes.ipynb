{
 "cells": [
  {
   "cell_type": "markdown",
   "metadata": {},
   "source": [
    "1. Load all the volcano plot files, also the TF file\n",
    "2. For all the files, filter rows based on padj <0.01\n",
    "3. Next, filter rows based on the transcriptional factor genes\n",
    "3. Based upon the filtering, create the final set of ensemble gene ids \n",
    "4. Filter the countData file rows based upon the final set of ensemble gene ids - send the final file to musaddiq"
   ]
  },
  {
   "cell_type": "code",
   "execution_count": 1,
   "metadata": {},
   "outputs": [],
   "source": [
    "# Load libraries\n",
    "\n",
    "import os\n",
    "import pandas as pd"
   ]
  },
  {
   "cell_type": "code",
   "execution_count": 2,
   "metadata": {},
   "outputs": [
    {
     "data": {
      "text/html": [
       "<div>\n",
       "<style scoped>\n",
       "    .dataframe tbody tr th:only-of-type {\n",
       "        vertical-align: middle;\n",
       "    }\n",
       "\n",
       "    .dataframe tbody tr th {\n",
       "        vertical-align: top;\n",
       "    }\n",
       "\n",
       "    .dataframe thead th {\n",
       "        text-align: right;\n",
       "    }\n",
       "</style>\n",
       "<table border=\"1\" class=\"dataframe\">\n",
       "  <thead>\n",
       "    <tr style=\"text-align: right;\">\n",
       "      <th></th>\n",
       "      <th>Species</th>\n",
       "      <th>Symbol</th>\n",
       "      <th>Ensembl</th>\n",
       "      <th>Family</th>\n",
       "      <th>Protein</th>\n",
       "      <th>Entrez_ID</th>\n",
       "    </tr>\n",
       "  </thead>\n",
       "  <tbody>\n",
       "    <tr>\n",
       "      <th>0</th>\n",
       "      <td>Rattus_norvegicus</td>\n",
       "      <td>Prdm2</td>\n",
       "      <td>ENSRNOG00000033522</td>\n",
       "      <td>zf-C2H2</td>\n",
       "      <td>ENSRNOP00000046011.3;</td>\n",
       "      <td>313678.0</td>\n",
       "    </tr>\n",
       "    <tr>\n",
       "      <th>1</th>\n",
       "      <td>Rattus_norvegicus</td>\n",
       "      <td>NaN</td>\n",
       "      <td>ENSRNOG00000067812</td>\n",
       "      <td>zf-C2H2</td>\n",
       "      <td>ENSRNOP00000086758.1;ENSRNOP00000089484.1;</td>\n",
       "      <td>102551257.0</td>\n",
       "    </tr>\n",
       "    <tr>\n",
       "      <th>2</th>\n",
       "      <td>Rattus_norvegicus</td>\n",
       "      <td>Isl2</td>\n",
       "      <td>ENSRNOG00000015336</td>\n",
       "      <td>Homeobox</td>\n",
       "      <td>ENSRNOP00000021074.3;</td>\n",
       "      <td>57233.0</td>\n",
       "    </tr>\n",
       "    <tr>\n",
       "      <th>3</th>\n",
       "      <td>Rattus_norvegicus</td>\n",
       "      <td>Fos</td>\n",
       "      <td>ENSRNOG00000008015</td>\n",
       "      <td>TF_bZIP</td>\n",
       "      <td>ENSRNOP00000010712.2;</td>\n",
       "      <td>314322.0</td>\n",
       "    </tr>\n",
       "    <tr>\n",
       "      <th>4</th>\n",
       "      <td>Rattus_norvegicus</td>\n",
       "      <td>Vax1</td>\n",
       "      <td>ENSRNOG00000008824</td>\n",
       "      <td>Homeobox</td>\n",
       "      <td>ENSRNOP00000011743.1;</td>\n",
       "      <td>64571.0</td>\n",
       "    </tr>\n",
       "  </tbody>\n",
       "</table>\n",
       "</div>"
      ],
      "text/plain": [
       "             Species Symbol             Ensembl    Family  \\\n",
       "0  Rattus_norvegicus  Prdm2  ENSRNOG00000033522   zf-C2H2   \n",
       "1  Rattus_norvegicus    NaN  ENSRNOG00000067812   zf-C2H2   \n",
       "2  Rattus_norvegicus   Isl2  ENSRNOG00000015336  Homeobox   \n",
       "3  Rattus_norvegicus    Fos  ENSRNOG00000008015   TF_bZIP   \n",
       "4  Rattus_norvegicus   Vax1  ENSRNOG00000008824  Homeobox   \n",
       "\n",
       "                                      Protein    Entrez_ID  \n",
       "0                       ENSRNOP00000046011.3;     313678.0  \n",
       "1  ENSRNOP00000086758.1;ENSRNOP00000089484.1;  102551257.0  \n",
       "2                       ENSRNOP00000021074.3;      57233.0  \n",
       "3                       ENSRNOP00000010712.2;     314322.0  \n",
       "4                       ENSRNOP00000011743.1;      64571.0  "
      ]
     },
     "execution_count": 2,
     "metadata": {},
     "output_type": "execute_result"
    }
   ],
   "source": [
    "# Read the TF file\n",
    "\n",
    "df_tffile = pd.read_csv('../Rattus_norvegicus_TF.txt', sep='\\t')\n",
    "tf_list = list(df_tffile['Ensembl'])\n",
    "df_tffile.head()"
   ]
  },
  {
   "cell_type": "code",
   "execution_count": 3,
   "metadata": {},
   "outputs": [],
   "source": [
    "# Create a method to preprocess the deg files\n",
    "\n",
    "def tf_filter(df):\n",
    "    df = df[df['padj'] <= 0.01]\n",
    "    df = df[df['ENSEMBL ID'].isin(tf_list)]\n",
    "    # df = df[abs(df['log2FoldChange']) >= 0.5]\n",
    "    print(f'No of rows: {len(df)}')\n",
    "\n",
    "    return list(df['ENSEMBL ID'])"
   ]
  },
  {
   "cell_type": "code",
   "execution_count": 8,
   "metadata": {},
   "outputs": [
    {
     "name": "stdout",
     "output_type": "stream",
     "text": [
      "No of rows: 205\n",
      "No of rows: 548\n",
      "No of rows: 503\n",
      "No of rows: 495\n",
      "No of rows: 580\n",
      "No of rows: 454\n",
      "No of rows: 302\n",
      "No of rows: 262\n",
      "No of rows: 347\n",
      "No of rows: 454\n"
     ]
    },
    {
     "data": {
      "text/plain": [
       "37"
      ]
     },
     "execution_count": 8,
     "metadata": {},
     "output_type": "execute_result"
    }
   ],
   "source": [
    "# Read all the differential gene expression files\n",
    "\n",
    "path = '../'\n",
    "deg_files = [f for f in os.listdir(path) if f.endswith('.csv')]\n",
    "\n",
    "gene_list_all = []\n",
    "for deg_file in deg_files:\n",
    "    df = pd.read_csv(os.path.join(path, deg_file))\n",
    "    gene_list = tf_filter(df)\n",
    "    gene_list_all.append(set(gene_list))\n",
    "\n",
    "gene_list_intersection = set.intersection(*gene_list_all)\n",
    "\n",
    "len(gene_list_intersection)"
   ]
  }
 ],
 "metadata": {
  "kernelspec": {
   "display_name": ".venv",
   "language": "python",
   "name": "python3"
  },
  "language_info": {
   "codemirror_mode": {
    "name": "ipython",
    "version": 3
   },
   "file_extension": ".py",
   "mimetype": "text/x-python",
   "name": "python",
   "nbconvert_exporter": "python",
   "pygments_lexer": "ipython3",
   "version": "3.11.7"
  }
 },
 "nbformat": 4,
 "nbformat_minor": 2
}
