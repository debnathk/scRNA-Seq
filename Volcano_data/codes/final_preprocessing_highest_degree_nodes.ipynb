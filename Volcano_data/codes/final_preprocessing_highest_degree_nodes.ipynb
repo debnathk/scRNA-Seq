{
 "cells": [
  {
   "cell_type": "code",
   "execution_count": 38,
   "metadata": {},
   "outputs": [],
   "source": [
    "import os\n",
    "import pandas as pd\n",
    "import numpy as np"
   ]
  },
  {
   "cell_type": "code",
   "execution_count": 30,
   "metadata": {},
   "outputs": [
    {
     "data": {
      "text/plain": [
       "['sorted_degrees_mSLA_network_final_095.csv',\n",
       " 'sorted_degrees_OM_network_final_095.csv',\n",
       " 'sorted_degrees_PT_network_final_095.csv',\n",
       " 'sorted_degrees_TCPS_network_final_095.csv',\n",
       " 'sorted_degrees_Titan_network_final_095.csv']"
      ]
     },
     "execution_count": 30,
     "metadata": {},
     "output_type": "execute_result"
    }
   ],
   "source": [
    "path = \"D:/scRNA-Seq_data/final_schwartz_networks/\"\n",
    "\n",
    "node_files = [file for file in os.listdir(path) if (file.startswith(\"sorted\") and file.endswith(\"95.csv\"))]\n",
    "node_files"
   ]
  },
  {
   "cell_type": "code",
   "execution_count": 31,
   "metadata": {},
   "outputs": [],
   "source": [
    "# Keeping only nodes with degree > 10\n",
    "\n",
    "for file in node_files:\n",
    "    df = pd.read_csv(path + file)\n",
    "    df = df[df['degree'] >= 5]\n",
    "    df.to_csv(path + f'{file.split(\"final\")[0]}selected.csv', index=False)"
   ]
  },
  {
   "cell_type": "code",
   "execution_count": 32,
   "metadata": {},
   "outputs": [
    {
     "data": {
      "text/plain": [
       "['mSLA_merged.csv',\n",
       " 'OM_merged.csv',\n",
       " 'PT_merged.csv',\n",
       " 'TCPS_merged.csv',\n",
       " 'Titan_merged.csv']"
      ]
     },
     "execution_count": 32,
     "metadata": {},
     "output_type": "execute_result"
    }
   ],
   "source": [
    "# Read the implant sig files\n",
    "\n",
    "implants_path = \"C:/Users/debnathk/Desktop/study/scRNA-Seq/data/\"\n",
    "\n",
    "implant_files = [file for file in os.listdir(implants_path) if file.endswith(\"merged.csv\")]\n",
    "implant_files"
   ]
  },
  {
   "cell_type": "code",
   "execution_count": 34,
   "metadata": {},
   "outputs": [
    {
     "data": {
      "text/plain": [
       "['sorted_degrees_mSLA_network_selected.csv',\n",
       " 'sorted_degrees_OM_network_selected.csv',\n",
       " 'sorted_degrees_PT_network_selected.csv',\n",
       " 'sorted_degrees_TCPS_network_selected.csv',\n",
       " 'sorted_degrees_Titan_network_selected.csv']"
      ]
     },
     "execution_count": 34,
     "metadata": {},
     "output_type": "execute_result"
    }
   ],
   "source": [
    "# Read the high degree nodes files\n",
    "\n",
    "hd_nodes_path = \"D:/scRNA-Seq_data/final_schwartz_networks/\"\n",
    "\n",
    "hd_node_files = [file for file in os.listdir(path) if (file.startswith(\"sorted\") and file.endswith(\"selected.csv\"))]\n",
    "hd_node_files"
   ]
  },
  {
   "cell_type": "code",
   "execution_count": 37,
   "metadata": {},
   "outputs": [
    {
     "data": {
      "text/html": [
       "<div>\n",
       "<style scoped>\n",
       "    .dataframe tbody tr th:only-of-type {\n",
       "        vertical-align: middle;\n",
       "    }\n",
       "\n",
       "    .dataframe tbody tr th {\n",
       "        vertical-align: top;\n",
       "    }\n",
       "\n",
       "    .dataframe thead th {\n",
       "        text-align: right;\n",
       "    }\n",
       "</style>\n",
       "<table border=\"1\" class=\"dataframe\">\n",
       "  <thead>\n",
       "    <tr style=\"text-align: right;\">\n",
       "      <th></th>\n",
       "      <th>Species</th>\n",
       "      <th>Symbol</th>\n",
       "      <th>Ensembl</th>\n",
       "      <th>Family</th>\n",
       "      <th>Protein</th>\n",
       "      <th>Entrez_ID</th>\n",
       "    </tr>\n",
       "  </thead>\n",
       "  <tbody>\n",
       "    <tr>\n",
       "      <th>0</th>\n",
       "      <td>Rattus_norvegicus</td>\n",
       "      <td>Prdm2</td>\n",
       "      <td>ENSRNOG00000033522</td>\n",
       "      <td>zf-C2H2</td>\n",
       "      <td>ENSRNOP00000046011.3;</td>\n",
       "      <td>313678.0</td>\n",
       "    </tr>\n",
       "    <tr>\n",
       "      <th>1</th>\n",
       "      <td>Rattus_norvegicus</td>\n",
       "      <td>NaN</td>\n",
       "      <td>ENSRNOG00000067812</td>\n",
       "      <td>zf-C2H2</td>\n",
       "      <td>ENSRNOP00000086758.1;ENSRNOP00000089484.1;</td>\n",
       "      <td>102551257.0</td>\n",
       "    </tr>\n",
       "    <tr>\n",
       "      <th>2</th>\n",
       "      <td>Rattus_norvegicus</td>\n",
       "      <td>Isl2</td>\n",
       "      <td>ENSRNOG00000015336</td>\n",
       "      <td>Homeobox</td>\n",
       "      <td>ENSRNOP00000021074.3;</td>\n",
       "      <td>57233.0</td>\n",
       "    </tr>\n",
       "    <tr>\n",
       "      <th>3</th>\n",
       "      <td>Rattus_norvegicus</td>\n",
       "      <td>Fos</td>\n",
       "      <td>ENSRNOG00000008015</td>\n",
       "      <td>TF_bZIP</td>\n",
       "      <td>ENSRNOP00000010712.2;</td>\n",
       "      <td>314322.0</td>\n",
       "    </tr>\n",
       "    <tr>\n",
       "      <th>4</th>\n",
       "      <td>Rattus_norvegicus</td>\n",
       "      <td>Vax1</td>\n",
       "      <td>ENSRNOG00000008824</td>\n",
       "      <td>Homeobox</td>\n",
       "      <td>ENSRNOP00000011743.1;</td>\n",
       "      <td>64571.0</td>\n",
       "    </tr>\n",
       "  </tbody>\n",
       "</table>\n",
       "</div>"
      ],
      "text/plain": [
       "             Species Symbol             Ensembl    Family  \\\n",
       "0  Rattus_norvegicus  Prdm2  ENSRNOG00000033522   zf-C2H2   \n",
       "1  Rattus_norvegicus    NaN  ENSRNOG00000067812   zf-C2H2   \n",
       "2  Rattus_norvegicus   Isl2  ENSRNOG00000015336  Homeobox   \n",
       "3  Rattus_norvegicus    Fos  ENSRNOG00000008015   TF_bZIP   \n",
       "4  Rattus_norvegicus   Vax1  ENSRNOG00000008824  Homeobox   \n",
       "\n",
       "                                      Protein    Entrez_ID  \n",
       "0                       ENSRNOP00000046011.3;     313678.0  \n",
       "1  ENSRNOP00000086758.1;ENSRNOP00000089484.1;  102551257.0  \n",
       "2                       ENSRNOP00000021074.3;      57233.0  \n",
       "3                       ENSRNOP00000010712.2;     314322.0  \n",
       "4                       ENSRNOP00000011743.1;      64571.0  "
      ]
     },
     "execution_count": 37,
     "metadata": {},
     "output_type": "execute_result"
    }
   ],
   "source": [
    "# Read the TF file\n",
    "\n",
    "df_tffile = pd.read_csv('../Rattus_norvegicus_TF.txt', sep='\\t')\n",
    "tf_list = list(df_tffile['Ensembl'])\n",
    "df_tffile.head()"
   ]
  },
  {
   "cell_type": "code",
   "execution_count": 50,
   "metadata": {},
   "outputs": [],
   "source": [
    "# Create a union of TF genes and high degree genes\n",
    "\n",
    "# Genes of Interest\n",
    "goi_list = []\n",
    "for file in hd_node_files:\n",
    "    df_hd_node = pd.read_csv(hd_nodes_path + file)\n",
    "    goi = set(df_hd_node.iloc[:, 0]).union(set(df_tffile['Ensembl']))\n",
    "    goi_list.append(list(goi))"
   ]
  },
  {
   "cell_type": "code",
   "execution_count": 53,
   "metadata": {},
   "outputs": [],
   "source": [
    "# goi_list"
   ]
  },
  {
   "cell_type": "code",
   "execution_count": 52,
   "metadata": {},
   "outputs": [],
   "source": [
    "# Save the implant deg files with goi (hd genes + TF genes)\n",
    "\n",
    "for (file, goi) in zip(implant_files, goi_list):\n",
    "    df_implants = pd.read_csv(implants_path + file)\n",
    "    df_implants = df_implants[df_implants['ENSEMBL ID'].isin(goi)]\n",
    "    df_implants.to_csv(implants_path + f'{file.split(\".csv\")[0]}_goi.csv', index=False)"
   ]
  }
 ],
 "metadata": {
  "kernelspec": {
   "display_name": "base",
   "language": "python",
   "name": "python3"
  },
  "language_info": {
   "codemirror_mode": {
    "name": "ipython",
    "version": 3
   },
   "file_extension": ".py",
   "mimetype": "text/x-python",
   "name": "python",
   "nbconvert_exporter": "python",
   "pygments_lexer": "ipython3",
   "version": "3.11.7"
  }
 },
 "nbformat": 4,
 "nbformat_minor": 2
}
