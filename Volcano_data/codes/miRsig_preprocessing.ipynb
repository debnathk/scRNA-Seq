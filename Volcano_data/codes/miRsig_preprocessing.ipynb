{
 "cells": [
  {
   "cell_type": "code",
   "execution_count": 2,
   "metadata": {},
   "outputs": [],
   "source": [
    "import os\n",
    "import pandas as pd"
   ]
  },
  {
   "cell_type": "code",
   "execution_count": 3,
   "metadata": {},
   "outputs": [
    {
     "data": {
      "text/plain": [
       "['mSLA_network.tsv',\n",
       " 'OM_network.tsv',\n",
       " 'PT_network.tsv',\n",
       " 'TCPS_network.tsv',\n",
       " 'Titan_network.tsv']"
      ]
     },
     "execution_count": 3,
     "metadata": {},
     "output_type": "execute_result"
    }
   ],
   "source": [
    "path = \"D:/scRNA-Seq_data/final_schwartz_networks/\"\n",
    "\n",
    "files = [file for file in os.listdir(path)]\n",
    "files"
   ]
  },
  {
   "cell_type": "code",
   "execution_count": 4,
   "metadata": {},
   "outputs": [],
   "source": [
    "def preprocess(df):\n",
    "    df = pd.read_csv((path + file), sep=\"\\t\", header=None)\n",
    "    df = df[df[2] >= 0.9]\n",
    "    \n",
    "    return df"
   ]
  },
  {
   "cell_type": "code",
   "execution_count": 7,
   "metadata": {},
   "outputs": [],
   "source": [
    "for file in files:\n",
    "    df_preprocessed = preprocess(file)\n",
    "    df_preprocessed.to_csv((path+file[:-4]+'_final.tsv'), sep='\\t', index=False, header=None)"
   ]
  },
  {
   "cell_type": "code",
   "execution_count": 8,
   "metadata": {},
   "outputs": [
    {
     "data": {
      "text/html": [
       "<div>\n",
       "<style scoped>\n",
       "    .dataframe tbody tr th:only-of-type {\n",
       "        vertical-align: middle;\n",
       "    }\n",
       "\n",
       "    .dataframe tbody tr th {\n",
       "        vertical-align: top;\n",
       "    }\n",
       "\n",
       "    .dataframe thead th {\n",
       "        text-align: right;\n",
       "    }\n",
       "</style>\n",
       "<table border=\"1\" class=\"dataframe\">\n",
       "  <thead>\n",
       "    <tr style=\"text-align: right;\">\n",
       "      <th></th>\n",
       "      <th>0</th>\n",
       "      <th>1</th>\n",
       "      <th>2</th>\n",
       "    </tr>\n",
       "  </thead>\n",
       "  <tbody>\n",
       "    <tr>\n",
       "      <th>0</th>\n",
       "      <td>ENSRNOG00000060675</td>\n",
       "      <td>ENSRNOG00000033389</td>\n",
       "      <td>0.99438</td>\n",
       "    </tr>\n",
       "    <tr>\n",
       "      <th>1</th>\n",
       "      <td>ENSRNOG00000011702</td>\n",
       "      <td>ENSRNOG00000000491</td>\n",
       "      <td>0.99096</td>\n",
       "    </tr>\n",
       "    <tr>\n",
       "      <th>2</th>\n",
       "      <td>ENSRNOG00000004589</td>\n",
       "      <td>ENSRNOG00000060448</td>\n",
       "      <td>0.98896</td>\n",
       "    </tr>\n",
       "    <tr>\n",
       "      <th>3</th>\n",
       "      <td>ENSRNOG00000004786</td>\n",
       "      <td>ENSRNOG00000060867</td>\n",
       "      <td>0.98734</td>\n",
       "    </tr>\n",
       "    <tr>\n",
       "      <th>4</th>\n",
       "      <td>ENSRNOG00000051536</td>\n",
       "      <td>ENSRNOG00000009736</td>\n",
       "      <td>0.98556</td>\n",
       "    </tr>\n",
       "    <tr>\n",
       "      <th>...</th>\n",
       "      <td>...</td>\n",
       "      <td>...</td>\n",
       "      <td>...</td>\n",
       "    </tr>\n",
       "    <tr>\n",
       "      <th>23023</th>\n",
       "      <td>ENSRNOG00000031081</td>\n",
       "      <td>ENSRNOG00000011015</td>\n",
       "      <td>0.90000</td>\n",
       "    </tr>\n",
       "    <tr>\n",
       "      <th>23024</th>\n",
       "      <td>ENSRNOG00000054861</td>\n",
       "      <td>ENSRNOG00000013364</td>\n",
       "      <td>0.90000</td>\n",
       "    </tr>\n",
       "    <tr>\n",
       "      <th>23025</th>\n",
       "      <td>ENSRNOG00000061989</td>\n",
       "      <td>ENSRNOG00000060849</td>\n",
       "      <td>0.90000</td>\n",
       "    </tr>\n",
       "    <tr>\n",
       "      <th>23026</th>\n",
       "      <td>ENSRNOG00000020030</td>\n",
       "      <td>ENSRNOG00000001516</td>\n",
       "      <td>0.90000</td>\n",
       "    </tr>\n",
       "    <tr>\n",
       "      <th>23027</th>\n",
       "      <td>ENSRNOG00000010716</td>\n",
       "      <td>ENSRNOG00000062101</td>\n",
       "      <td>0.90000</td>\n",
       "    </tr>\n",
       "  </tbody>\n",
       "</table>\n",
       "<p>23028 rows × 3 columns</p>\n",
       "</div>"
      ],
      "text/plain": [
       "                        0                   1        2\n",
       "0      ENSRNOG00000060675  ENSRNOG00000033389  0.99438\n",
       "1      ENSRNOG00000011702  ENSRNOG00000000491  0.99096\n",
       "2      ENSRNOG00000004589  ENSRNOG00000060448  0.98896\n",
       "3      ENSRNOG00000004786  ENSRNOG00000060867  0.98734\n",
       "4      ENSRNOG00000051536  ENSRNOG00000009736  0.98556\n",
       "...                   ...                 ...      ...\n",
       "23023  ENSRNOG00000031081  ENSRNOG00000011015  0.90000\n",
       "23024  ENSRNOG00000054861  ENSRNOG00000013364  0.90000\n",
       "23025  ENSRNOG00000061989  ENSRNOG00000060849  0.90000\n",
       "23026  ENSRNOG00000020030  ENSRNOG00000001516  0.90000\n",
       "23027  ENSRNOG00000010716  ENSRNOG00000062101  0.90000\n",
       "\n",
       "[23028 rows x 3 columns]"
      ]
     },
     "execution_count": 8,
     "metadata": {},
     "output_type": "execute_result"
    }
   ],
   "source": [
    "df = pd.read_csv(path+'mSLA_network_final.tsv', sep='\\t', header=None)\n",
    "df"
   ]
  }
 ],
 "metadata": {
  "kernelspec": {
   "display_name": "base",
   "language": "python",
   "name": "python3"
  },
  "language_info": {
   "codemirror_mode": {
    "name": "ipython",
    "version": 3
   },
   "file_extension": ".py",
   "mimetype": "text/x-python",
   "name": "python",
   "nbconvert_exporter": "python",
   "pygments_lexer": "ipython3",
   "version": "3.11.7"
  }
 },
 "nbformat": 4,
 "nbformat_minor": 2
}
